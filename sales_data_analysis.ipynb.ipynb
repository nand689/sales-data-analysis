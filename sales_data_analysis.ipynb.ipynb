{
 "cells": [
  {
   "cell_type": "code",
   "execution_count": null,
   "id": "f1c7a2fd-d4f0-4227-9c8c-48de99010b51",
   "metadata": {},
   "outputs": [],
   "source": [
    "!pip install seaborn\n"
   ]
  },
  {
   "cell_type": "code",
   "execution_count": null,
   "id": "0979edbb",
   "metadata": {},
   "outputs": [],
   "source": [
    "# Let's import python libraries First\n",
    "\n",
    "import numpy as np \n",
    "import pandas as pd \n",
    "import matplotlib.pyplot as plt # visualizing data\n",
    "%matplotlib inline\n",
    "import seaborn as sns"
   ]
  },
  {
   "cell_type": "code",
   "execution_count": null,
   "id": "7fbfb436",
   "metadata": {
    "scrolled": true
   },
   "outputs": [],
   "source": [
    "# import csv file\n",
    "df = pd.read_csv(r'C:\\Users\\nandi\\OneDrive\\Desktop\\python course\\Sales_Data.csv', encoding= 'unicode_escape')"
   ]
  },
  {
   "cell_type": "code",
   "execution_count": null,
   "id": "b8db4a5b",
   "metadata": {},
   "outputs": [],
   "source": [
    "#Check Number of rows and Columns\n",
    "df.shape"
   ]
  },
  {
   "cell_type": "code",
   "execution_count": null,
   "id": "662c471c",
   "metadata": {},
   "outputs": [],
   "source": [
    "#To see the imported data\n",
    "df.head(10)  # Show Top 5 Rows "
   ]
  },
  {
   "cell_type": "code",
   "execution_count": null,
   "id": "0814c45b",
   "metadata": {
    "scrolled": true
   },
   "outputs": [],
   "source": [
    "#Field details and Data type\n",
    "df.info()"
   ]
  },
  {
   "cell_type": "markdown",
   "id": "fce7935a-1581-4771-a584-df38d277ddd3",
   "metadata": {},
   "source": [
    "## Let's Start Data Cleaning"
   ]
  },
  {
   "cell_type": "code",
   "execution_count": null,
   "id": "7ec3377f-7d99-4e63-9133-238b98437b76",
   "metadata": {},
   "outputs": [],
   "source": [
    "#Deleting blank column\n",
    "df.drop(['Zipcode'], axis=1, inplace=True)"
   ]
  },
  {
   "cell_type": "code",
   "execution_count": null,
   "id": "5f723a99",
   "metadata": {},
   "outputs": [],
   "source": [
    "#List of Columns Available\n",
    "df.columns"
   ]
  },
  {
   "cell_type": "code",
   "execution_count": null,
   "id": "5cee58eb",
   "metadata": {},
   "outputs": [],
   "source": [
    "#check for null values\n",
    "pd.isnull(df).sum()"
   ]
  },
  {
   "cell_type": "code",
   "execution_count": null,
   "id": "65de74e3",
   "metadata": {},
   "outputs": [],
   "source": [
    "# drop null values\n",
    "df.dropna(how='all', inplace=True)"
   ]
  },
  {
   "cell_type": "code",
   "execution_count": null,
   "id": "0def6cd1-5a5b-4551-9734-69ecf59e2e76",
   "metadata": {},
   "outputs": [],
   "source": [
    "df.shape"
   ]
  },
  {
   "cell_type": "code",
   "execution_count": null,
   "id": "a85bb3c3",
   "metadata": {},
   "outputs": [],
   "source": [
    "#replace value of Gender Column\n",
    "df['Gender'] = df['Gender'].replace('M', 'Male')\n"
   ]
  },
  {
   "cell_type": "code",
   "execution_count": null,
   "id": "4daafd30-3aff-436b-b0cc-bdd6c642b8bf",
   "metadata": {},
   "outputs": [],
   "source": [
    "#View only Male Gender data\n",
    "df[df['Gender'] == 'Male']"
   ]
  },
  {
   "cell_type": "markdown",
   "id": "cc649558",
   "metadata": {},
   "source": [
    "## --> Now Let's Learn EDA - Exploratory Data Analysis"
   ]
  },
  {
   "cell_type": "code",
   "execution_count": null,
   "id": "a2484863",
   "metadata": {},
   "outputs": [],
   "source": [
    "# describe() method returns description of the data in the DataFrame (i.e. count, mean, std, etc)\n",
    "df.describe()"
   ]
  },
  {
   "cell_type": "code",
   "execution_count": null,
   "id": "2c380030",
   "metadata": {},
   "outputs": [],
   "source": [
    "# use describe() for specific columns\n",
    "df[['Age', 'Orders', 'Amount']].describe()"
   ]
  },
  {
   "cell_type": "code",
   "execution_count": null,
   "id": "ab1b0adf-24c7-4cda-9d2b-c0e02993f845",
   "metadata": {},
   "outputs": [],
   "source": [
    "ax=sns.countplot(x='Gender', data = df)\n",
    "for bars in ax.containers:\n",
    "    ax.bar_label(bars)\n",
    "plt.show()"
   ]
  },
  {
   "cell_type": "code",
   "execution_count": null,
   "id": "84c7918d",
   "metadata": {
    "scrolled": true
   },
   "outputs": [],
   "source": [
    "# Total Transactions count by Gender Wise in Bar Chart\n",
    "ax = sns.countplot(x = 'Gender', data = df)\n",
    "\n",
    "# Set Title and Labels with Font Size\n",
    "for bars in ax.containers:\n",
    "    ax.bar_label(bars)\n",
    "    ax.set_title('Gender Distribution', fontsize=24)   # Chart Title\n",
    "    ax.set_xlabel('Gender', fontsize=24)               # X - Axis Label\n",
    "    ax.set_ylabel('Count', fontsize=24)                # Y - Axis Label \n",
    "    ax.tick_params(axis='both', labelsize=16)          # Axis Parameters\n",
    "plt.show()\n",
    "    "
   ]
  },
  {
   "cell_type": "code",
   "execution_count": null,
   "id": "e7d11a0d-b678-4725-b533-e265e7a2011c",
   "metadata": {},
   "outputs": [],
   "source": [
    "# 2 . Gender wise distribution in Pie Chart"
   ]
  },
  {
   "cell_type": "code",
   "execution_count": null,
   "id": "dd998067-1e50-4456-b9f2-baae3c68ac6c",
   "metadata": {},
   "outputs": [],
   "source": [
    "#Total Transactions Count by Gender wise\n",
    "gender_counts = df['Gender'].value_counts()\n",
    "print(gender_counts)"
   ]
  },
  {
   "cell_type": "code",
   "execution_count": null,
   "id": "77c7777f-0b0c-499d-8f6f-0a2c9d18b672",
   "metadata": {},
   "outputs": [],
   "source": [
    "#Total Transactions Count by Gender wise in Pie Chart\n",
    "gender_counts = df['Gender'].value_counts()\n",
    "\n",
    "plt.pie(\n",
    "    gender_counts,                       # Data (counts)\n",
    "    labels=gender_counts.index,          # Labels (e.g., Male, Female)\n",
    "    autopct='%.2f%%',                    # Show percentages (2 decimal place)\n",
    "    startangle=90,                       # Rotate for better orientation\n",
    ")\n",
    "# Add a title\n",
    "plt.title('Gender Distribution', fontsize=14)\n",
    "plt.show()\n"
   ]
  },
  {
   "cell_type": "code",
   "execution_count": null,
   "id": "0ce657a6-9f11-4117-93ef-98891aa4f14c",
   "metadata": {},
   "outputs": [],
   "source": [
    "df.groupby('Gender', as_index=False)['Amount'].sum()"
   ]
  },
  {
   "cell_type": "code",
   "execution_count": null,
   "id": "b0634ebc-51c2-4a72-a5bb-50dabe4fd6ce",
   "metadata": {},
   "outputs": [],
   "source": [
    "Gen_Wise_Sales = df.groupby('Gender', as_index=False)['Amount'].sum().sort_values(by='Amount', ascending=False)\n",
    "print(Gen_Wise_Sales)"
   ]
  },
  {
   "cell_type": "code",
   "execution_count": null,
   "id": "92504909-f853-4b96-800e-54e94f0e8717",
   "metadata": {
    "scrolled": true
   },
   "outputs": [],
   "source": [
    "# Gender wise Total Sales Amount\n",
    "\n",
    "# Step 1: Group data by Gender and sum the Amount\n",
    "Gen_Wise_Sales = df.groupby('Gender', as_index=False)['Amount'].sum().sort_values(by='Amount', ascending=False)\n",
    "\n",
    "# Step 2: Create the bar plot\n",
    "ax = sns.barplot(x='Gender', y='Amount', data=Gen_Wise_Sales)\n",
    "\n",
    "# Step 3: Add data labels on top of bars\n",
    "for bar in ax.containers:\n",
    "    ax.bar_label(bar, fmt='%.0f', fontsize=16, color='red')  # Show counts as whole numbers\n",
    "    \n",
    "# Step 4: Add titles\n",
    "plt.title('Gender-wise Total Sales Amount', fontsize=14)\n",
    "plt.show()\n"
   ]
  },
  {
   "cell_type": "markdown",
   "id": "1e108cec",
   "metadata": {},
   "source": [
    "Conclusion : Male sales are higher than female sales"
   ]
  },
  {
   "cell_type": "markdown",
   "id": "dcc927f9",
   "metadata": {},
   "source": [
    "### --> Age group wise total transactions"
   ]
  },
  {
   "cell_type": "code",
   "execution_count": null,
   "id": "88563dec",
   "metadata": {},
   "outputs": [],
   "source": [
    "#Age Group wise Transactions Count in Bar Chart\n",
    "ax = sns.countplot(data = df, x = 'Age Group')\n",
    "\n",
    "for bars in ax.containers:         #Show Data labels\n",
    "    ax.bar_label(bars)\n",
    "plt.show()\n"
   ]
  },
  {
   "cell_type": "code",
   "execution_count": null,
   "id": "fee27f5c-f0b6-4cfe-861d-7112e9d44104",
   "metadata": {},
   "outputs": [],
   "source": [
    "#Step 1 - Age group wise transactions count (Sorting)\n",
    "\n",
    "age_group_counts=df['Age Group'].value_counts().sort_values(ascending=False)\n",
    "\n",
    "#Step 2 - Use Ordered categories for sorting in countplot\n",
    "sns_order=age_group_counts.index\n",
    "\n",
    "#Age Group wise Transactions Count in Bar Chart\n",
    "ax = sns.countplot(data = df, x = 'Age Group', order=sns_order)\n",
    "\n",
    "for bars in ax.containers:         #Show Data labels\n",
    "    ax.bar_label(bars)\n",
    "plt.show()\n",
    "\n",
    "\n"
   ]
  },
  {
   "cell_type": "code",
   "execution_count": null,
   "id": "d9d49eb9-164d-448e-8900-fd5d679ee3f3",
   "metadata": {},
   "outputs": [],
   "source": [
    "#Age group and Gender wise Transactions distribution\n",
    "\n",
    "ax = sns.countplot(data = df, x = 'Age Group', hue = 'Gender')\n",
    "\n",
    "for bars in ax.containers:\n",
    "    ax.bar_label(bars)\n",
    "plt.show()\n"
   ]
  },
  {
   "cell_type": "markdown",
   "id": "abaa6c07",
   "metadata": {},
   "source": [
    "*From above graphs we can see that most of the buyers are of age group between 26-35 yrs female*"
   ]
  },
  {
   "cell_type": "code",
   "execution_count": null,
   "id": "bfbe3937",
   "metadata": {},
   "outputs": [],
   "source": [
    "#  Age Group wise Total Amount\n",
    "sales_age = df.groupby(['Age Group'], as_index=False)['Amount'].sum().sort_values(by='Amount', ascending=False)\n",
    "\n",
    "sns.barplot(x = 'Age Group',y= 'Amount' ,data = sales_age)\n",
    "\n",
    "plt.show()"
   ]
  },
  {
   "cell_type": "markdown",
   "id": "83a49098",
   "metadata": {},
   "source": [
    "### --> State wise analysis"
   ]
  },
  {
   "cell_type": "code",
   "execution_count": null,
   "id": "5e27290e-20e8-4d03-9995-6dbc609b2bfb",
   "metadata": {},
   "outputs": [],
   "source": [
    "order_state = df.groupby(['State'], as_index=False)['Orders'].sum().sort_values(by='Orders', ascending=False).head(5)\n",
    "print(order_state)"
   ]
  },
  {
   "cell_type": "code",
   "execution_count": null,
   "id": "dfac4f2c",
   "metadata": {
    "scrolled": true
   },
   "outputs": [],
   "source": [
    "# Order wise Top 5 state\n",
    "order_state = df.groupby(['State'], as_index=False)['Orders'].sum().sort_values(by='Orders', ascending=False).head(5)\n",
    "\n",
    "#sns.set(rc={'figure.figsize':(15,5)})\n",
    "ax = sns.barplot(data = order_state, x = 'State',y= 'Orders')\n",
    "\n",
    "for bars in ax.containers:\n",
    "    ax.bar_label(bars)\n",
    "    \n",
    "plt.show()"
   ]
  },
  {
   "cell_type": "code",
   "execution_count": null,
   "id": "a66617bc",
   "metadata": {
    "scrolled": true
   },
   "outputs": [],
   "source": [
    "# Amount Wise top 5 state \n",
    "\n",
    "sales_state = df.groupby(['State'], as_index=False)['Amount'].sum().sort_values(by='Amount', ascending=False).head(5)\n",
    "\n",
    "sns.set(rc={'figure.figsize':(15,5)})\n",
    "sns.barplot(data = sales_state, x = 'State',y= 'Amount')\n",
    "plt.show()"
   ]
  },
  {
   "cell_type": "markdown",
   "id": "39d46e9e",
   "metadata": {},
   "source": [
    "*From above graphs we can see that most of the orders & total sales/amount are from Uttar Pradesh, Maharashtra and Karnataka respectively*\n"
   ]
  },
  {
   "cell_type": "markdown",
   "id": "89f865a5",
   "metadata": {},
   "source": [
    "### --> Product_Category Analysis"
   ]
  },
  {
   "cell_type": "code",
   "execution_count": null,
   "id": "77e6635e",
   "metadata": {
    "scrolled": true
   },
   "outputs": [],
   "source": [
    "# Product category wise Transactions count\n",
    "ax = sns.countplot(data = df, x = 'Product_Category')\n",
    "\n",
    "sns.set(rc={'figure.figsize':(7,5)})\n",
    "for bars in ax.containers:\n",
    "    ax.bar_label(bars)\n",
    "plt.show()"
   ]
  },
  {
   "cell_type": "code",
   "execution_count": null,
   "id": "99f5c6f3",
   "metadata": {
    "scrolled": true
   },
   "outputs": [],
   "source": [
    "#Amount wise Product Category in Bar Chart\n",
    "sales_state = df.groupby(['Product_Category'], as_index=False)['Amount'].sum().sort_values(by='Amount', ascending=False).head(5)\n",
    "\n",
    "sns.set(rc={'figure.figsize':(20,5)})\n",
    "sns.barplot(data = sales_state, x = 'Product_Category',y= 'Amount')\n",
    "\n",
    "plt.show()"
   ]
  },
  {
   "cell_type": "code",
   "execution_count": null,
   "id": "2d8c7b27",
   "metadata": {
    "scrolled": true
   },
   "outputs": [],
   "source": [
    "#Product category and Gender wise Transactions count\n",
    "sales_pro = df.groupby(['Product_Category', 'Gender'], as_index=False)['Amount'].sum().sort_values(by='Amount', ascending=False)\n",
    "sns.barplot(data = sales_pro, x = 'Product_Category',y= 'Amount', hue='Gender')\n",
    "\n",
    "plt.show()\n"
   ]
  },
  {
   "cell_type": "markdown",
   "id": "37afbb83",
   "metadata": {},
   "source": [
    "*From above graphs we can see that most of the buyers are Female "
   ]
  },
  {
   "cell_type": "markdown",
   "id": "230cfe66",
   "metadata": {},
   "source": [
    "### --> Profession wise Analysis"
   ]
  },
  {
   "cell_type": "code",
   "execution_count": null,
   "id": "4deb41f4",
   "metadata": {},
   "outputs": [],
   "source": [
    "# Profession wise Transactions count\n",
    "\n",
    "ax = sns.countplot(data = df, x = 'Profession')\n",
    "for bars in ax.containers:\n",
    "    ax.bar_label(bars)\n",
    "plt.show()\n"
   ]
  },
  {
   "cell_type": "code",
   "execution_count": null,
   "id": "4eb620f6",
   "metadata": {},
   "outputs": [],
   "source": [
    "# Amount Wise Top Professions\n",
    "sales_state = df.groupby(['Profession'], as_index=False)['Amount'].sum().sort_values(by='Amount', ascending=False).head(3)\n",
    "\n",
    "sns.set(rc={'figure.figsize':(20,5)})\n",
    "sns.barplot(data = sales_state, x = 'Profession',y= 'Amount')\n",
    "plt.show()"
   ]
  },
  {
   "cell_type": "markdown",
   "id": "26c22532",
   "metadata": {},
   "source": [
    "*From above graphs we can see that most of the buyers are working in IT, Healthcare and Aviation sector*"
   ]
  },
  {
   "cell_type": "code",
   "execution_count": null,
   "id": "f33d23c7",
   "metadata": {},
   "outputs": [],
   "source": [
    "#Order wise Top 10 Product \n",
    "sales_state = df.groupby(['Product_ID'], as_index=False)['Orders'].sum().sort_values(by='Orders', ascending=False).head(10)\n",
    "\n",
    "sns.set(rc={'figure.figsize':(20,5)})\n",
    "sns.barplot(data = sales_state, x = 'Product_ID',y= 'Orders')\n",
    "plt.show()"
   ]
  },
  {
   "cell_type": "markdown",
   "id": "31f88f63",
   "metadata": {},
   "source": [
    "## Conclusion:\n",
    "\n",
    "### *Female age group 26-35 yrs from UP,  Maharastra and Karnataka working in IT, Healthcare and Aviation are more likely to buy products from Beauty, Sports and Electronics*"
   ]
  },
  {
   "cell_type": "markdown",
   "id": "56e52bca",
   "metadata": {},
   "source": []
  }
 ],
 "metadata": {
  "kernelspec": {
   "display_name": "Python 3 (ipykernel)",
   "language": "python",
   "name": "python3"
  },
  "language_info": {
   "codemirror_mode": {
    "name": "ipython",
    "version": 3
   },
   "file_extension": ".py",
   "mimetype": "text/x-python",
   "name": "python",
   "nbconvert_exporter": "python",
   "pygments_lexer": "ipython3",
   "version": "3.13.5"
  }
 },
 "nbformat": 4,
 "nbformat_minor": 5
}
